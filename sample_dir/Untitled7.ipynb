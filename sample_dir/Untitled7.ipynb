{
 "cells": [
  {
   "cell_type": "code",
   "execution_count": 57,
   "metadata": {
    "colab": {
     "base_uri": "https://localhost:8080/",
     "height": 34
    },
    "colab_type": "code",
    "id": "bxvH5M5R1vRw",
    "outputId": "5e54a426-1249-49bb-a5a4-6c02105448a9"
   },
   "outputs": [
    {
     "name": "stdout",
     "output_type": "stream",
     "text": [
      "True\n"
     ]
    }
   ],
   "source": [
    "def is_triangle(a,b,c):\n",
    "  if a > (b+c) or b > (a+c) or c > (a+b):\n",
    "    print(\"false\")\n",
    "  else: \n",
    "    print(\"True\")\n",
    "is_triangle(3,4,5)"
   ]
  },
  {
   "cell_type": "code",
   "execution_count": 48,
   "metadata": {
    "colab": {
     "base_uri": "https://localhost:8080/",
     "height": 34
    },
    "colab_type": "code",
    "id": "50alxFrw7fdA",
    "outputId": "d3135366-116c-4365-f191-81ade1e59e8b"
   },
   "outputs": [
    {
     "name": "stdout",
     "output_type": "stream",
     "text": [
      "False\n"
     ]
    }
   ],
   "source": [
    "def first(word):\n",
    "  return word[0]\n",
    "def last(word):\n",
    "  return word[-1]\n",
    "def middle(word):\n",
    "  return word[1:-1]\n",
    "def is_palindrome(st):\n",
    "    if len(st) <= 2 and (first(st) == last(st)):\n",
    "        print('True')\n",
    "    elif first(st) == last(st):\n",
    "        is_palindrome(middle(st))\n",
    "    else:\n",
    "        print('False')\n",
    "\n",
    "is_palindrome(\"moon\")\n",
    "\n"
   ]
  },
  {
   "cell_type": "code",
   "execution_count": 0,
   "metadata": {
    "colab": {},
    "colab_type": "code",
    "id": "p670zfMhBgda"
   },
   "outputs": [],
   "source": []
  }
 ],
 "metadata": {
  "colab": {
   "name": "Untitled7.ipynb",
   "provenance": []
  },
  "kernelspec": {
   "display_name": "Python 3",
   "language": "python",
   "name": "python3"
  },
  "language_info": {
   "codemirror_mode": {
    "name": "ipython",
    "version": 3
   },
   "file_extension": ".py",
   "mimetype": "text/x-python",
   "name": "python",
   "nbconvert_exporter": "python",
   "pygments_lexer": "ipython3",
   "version": "3.7.6"
  }
 },
 "nbformat": 4,
 "nbformat_minor": 1
}
